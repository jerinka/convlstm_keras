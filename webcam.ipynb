{
 "cells": [
  {
   "cell_type": "code",
   "execution_count": 13,
   "metadata": {},
   "outputs": [],
   "source": [
    "import numpy as np \n",
    "import cv2 \n",
    "  \n",
    "# This will return video from the first webcam on your computer. \n",
    "cap = cv2.VideoCapture(0)   \n",
    "  \n",
    "# Define the codec and create VideoWriter object \n",
    "fourcc = cv2.VideoWriter_fourcc(*'XVID') \n",
    "out = cv2.VideoWriter('vid2.avi', fourcc, 20.0, (640, 480)) \n",
    "  \n",
    "# loop runs if capturing has been initialized.  \n",
    "while(True): \n",
    "    # reads frames from a camera  \n",
    "    # ret checks return at each frame \n",
    "    ret, frame = cap.read()  \n",
    "  \n",
    "    # Converts to HSV color space, OCV reads colors as BGR \n",
    "    # frame is converted to hsv \n",
    "    #hsv = cv2.cvtColor(frame, cv2.COLOR_BGR2HSV) \n",
    "      \n",
    "    # output the frame \n",
    "    out.write(frame)  \n",
    "      \n",
    "    # The original input frame is shown in the window  \n",
    "    cv2.imshow('Original', frame) \n",
    "  \n",
    "    # The window showing the operated video stream  \n",
    "    cv2.imshow('frame', hsv) \n",
    "  \n",
    "      \n",
    "    # Wait for 'a' key to stop the program  \n",
    "    if cv2.waitKey(1)==27: \n",
    "        break\n",
    "  \n",
    "# Close the window / Release webcam \n",
    "cap.release() \n",
    "  \n",
    "# After we release our webcam, we also release the output \n",
    "out.release()  \n",
    "  \n",
    "# De-allocate any associated memory usage  \n",
    "cv2.destroyAllWindows() "
   ]
  },
  {
   "cell_type": "code",
   "execution_count": 8,
   "metadata": {},
   "outputs": [],
   "source": [
    "# Close the window / Release webcam \n",
    "cap.release() \n",
    "  \n",
    "# After we release our webcam, we also release the output \n",
    "out.release()  \n",
    "  \n",
    "# De-allocate any associated memory usage  \n",
    "cv2.destroyAllWindows() "
   ]
  },
  {
   "cell_type": "code",
   "execution_count": null,
   "metadata": {},
   "outputs": [],
   "source": []
  },
  {
   "cell_type": "code",
   "execution_count": null,
   "metadata": {},
   "outputs": [],
   "source": []
  }
 ],
 "metadata": {
  "kernelspec": {
   "display_name": "Python 3",
   "language": "python",
   "name": "python3"
  },
  "language_info": {
   "codemirror_mode": {
    "name": "ipython",
    "version": 3
   },
   "file_extension": ".py",
   "mimetype": "text/x-python",
   "name": "python",
   "nbconvert_exporter": "python",
   "pygments_lexer": "ipython3",
   "version": "3.5.2"
  }
 },
 "nbformat": 4,
 "nbformat_minor": 2
}
